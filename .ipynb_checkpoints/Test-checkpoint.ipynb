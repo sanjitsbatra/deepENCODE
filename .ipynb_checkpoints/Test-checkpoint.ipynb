{
 "cells": [
  {
   "cell_type": "code",
   "execution_count": 4,
   "id": "aab60e54",
   "metadata": {},
   "outputs": [],
   "source": [
    "import os\n",
    "import sys\n",
    "import numpy as np\n",
    "from chrmt_generator import TranscriptomeGenerator\n",
    "from tensorflow.keras.models import load_model\n",
    "from tqdm import tqdm"
   ]
  },
  {
   "cell_type": "code",
   "execution_count": 5,
   "id": "94dad30d",
   "metadata": {},
   "outputs": [
    {
     "name": "stdout",
     "output_type": "stream",
     "text": [
      "WARNING:tensorflow:From /export/home/users/sbatra/.local/lib/python3.6/site-packages/tensorflow_core/python/ops/init_ops.py:97: calling Zeros.__init__ (from tensorflow.python.ops.init_ops) with dtype is deprecated and will be removed in a future version.\n",
      "Instructions for updating:\n",
      "Call initializer instance with the dtype argument instead of passing it to the constructor\n",
      "WARNING:tensorflow:From /export/home/users/sbatra/.local/lib/python3.6/site-packages/tensorflow_core/python/ops/init_ops.py:97: calling Ones.__init__ (from tensorflow.python.ops.init_ops) with dtype is deprecated and will be removed in a future version.\n",
      "Instructions for updating:\n",
      "Call initializer instance with the dtype argument instead of passing it to the constructor\n",
      "WARNING:tensorflow:From /export/home/users/sbatra/.local/lib/python3.6/site-packages/tensorflow_core/python/ops/init_ops.py:97: calling GlorotUniform.__init__ (from tensorflow.python.ops.init_ops) with dtype is deprecated and will be removed in a future version.\n",
      "Instructions for updating:\n",
      "Call initializer instance with the dtype argument instead of passing it to the constructor\n",
      "WARNING:tensorflow:From /export/home/users/sbatra/.local/lib/python3.6/site-packages/tensorflow_core/python/ops/resource_variable_ops.py:1630: calling BaseResourceVariable.__init__ (from tensorflow.python.ops.resource_variable_ops) with constraint is deprecated and will be removed in a future version.\n",
      "Instructions for updating:\n",
      "If using Keras pass *_constraint arguments to layers.\n",
      "WARNING:tensorflow:From /export/home/users/sbatra/.local/lib/python3.6/site-packages/tensorflow_core/python/ops/clip_ops.py:172: where (from tensorflow.python.ops.array_ops) is deprecated and will be removed in a future version.\n",
      "Instructions for updating:\n",
      "Use tf.where in 2.0, which has the same broadcast rule as np.where\n"
     ]
    },
    {
     "name": "stderr",
     "output_type": "stream",
     "text": [
      "Loading Epigenome data ../Data/100bp_12_7_Data_20_July_2020/T01A02.chr2.npy\n",
      "Loading Epigenome data ../Data/100bp_12_7_Data_20_July_2020/T01A03.chr2.npy\n",
      "Loading Epigenome data ../Data/100bp_12_7_Data_20_July_2020/T01A04.chr2.npy\n",
      "Loading Epigenome data ../Data/100bp_12_7_Data_20_July_2020/T01A05.chr2.npy\n",
      "Loading Epigenome data ../Data/100bp_12_7_Data_20_July_2020/T01A06.chr2.npy\n",
      "Loading Epigenome data ../Data/100bp_12_7_Data_20_July_2020/T01A07.chr2.npy\n",
      "Loading Transcriptome data /scratch/sanjit/ENCODE_Imputation_Challenge/2_April_2020/Data/Gene_Expression/genome_wide_TPM_npy/T01_TPM.chr2.+.npy /scratch/sanjit/ENCODE_Imputation_Challenge/2_April_2020/Data/Gene_Expression/genome_wide_TPM_npy/T01_TPM.chr2.-.npy\n"
     ]
    }
   ],
   "source": [
    "\n",
    "trained_model_path = \"../Run_T_1_transcriptome_20_64_5_0.0.model-10.hdf5\"\n",
    "trained_model = load_model(trained_model_path)\n",
    "\n",
    "window_size = 20\n",
    "\n",
    "test_generator = TranscriptomeGenerator(window_size,\n",
    "                   1,\n",
    "                   shuffle=False,\n",
    "                   mode='test',\n",
    "                   masking_probability=0.0)\n"
   ]
  },
  {
   "cell_type": "code",
   "execution_count": 16,
   "id": "58b4b6e2",
   "metadata": {},
   "outputs": [
    {
     "name": "stderr",
     "output_type": "stream",
     "text": [
      "100%|██████████| 500/500 [00:06<00:00, 71.56it/s]\n"
     ]
    }
   ],
   "source": [
    "np.set_printoptions(precision=3, suppress=True)\n",
    "\n",
    "for i in tqdm(range(min(500, len(test_generator)))):\n",
    "\n",
    "    X, Y = test_generator.__getitem__(i)\n",
    "\n",
    "    yPred = trained_model.predict(X)\n",
    "    if(yPred[0][0] > 0.5):\n",
    "        print(i, yPred[0][0], \"\\n\")"
   ]
  },
  {
   "cell_type": "markdown",
   "id": "1d01d384",
   "metadata": {},
   "source": []
  },
  {
   "cell_type": "code",
   "execution_count": null,
   "id": "ac8ea8ab",
   "metadata": {},
   "outputs": [],
   "source": []
  },
  {
   "cell_type": "code",
   "execution_count": null,
   "id": "85c8e28e",
   "metadata": {},
   "outputs": [],
   "source": []
  },
  {
   "cell_type": "code",
   "execution_count": 8,
   "id": "32b7fc3d",
   "metadata": {},
   "outputs": [
    {
     "name": "stderr",
     "output_type": "stream",
     "text": [
      "100%|██████████| 5/5 [00:00<00:00, 47.49it/s]"
     ]
    },
    {
     "name": "stdout",
     "output_type": "stream",
     "text": [
      "0 (1, 20, 6) (1, 1) \n",
      " [[[0.148 0.079 0.139 0.085 0.104 0.17 ]\n",
      "  [0.026 0.013 0.029 0.014 0.129 0.416]\n",
      "  [0.157 0.024 0.054 0.027 0.356 0.15 ]\n",
      "  [0.304 0.053 0.165 0.057 0.211 0.73 ]\n",
      "  [0.168 0.029 0.189 0.031 0.154 1.334]\n",
      "  [0.057 0.029 0.057 0.03  0.058 1.809]\n",
      "  [0.098 0.049 0.095 0.053 0.046 2.047]\n",
      "  [0.038 0.011 0.031 0.014 0.142 1.254]\n",
      "  [0.019 0.009 0.072 0.009 0.154 0.409]\n",
      "  [0.12  0.063 0.214 0.067 0.154 0.982]\n",
      "  [0.16  0.094 0.155 0.1   0.154 1.228]\n",
      "  [0.16  0.095 0.155 0.1   0.154 0.684]\n",
      "  [0.16  0.095 0.155 0.1   0.154 0.871]\n",
      "  [0.16  0.095 0.155 0.1   0.154 0.741]\n",
      "  [0.329 0.095 0.155 0.1   0.154 0.891]\n",
      "  [0.309 0.095 0.155 0.1   0.154 2.321]\n",
      "  [0.284 0.095 0.155 0.1   0.112 1.67 ]\n",
      "  [0.353 0.095 0.155 0.1   0.082 0.941]\n",
      "  [0.16  0.095 0.155 0.1   0.071 0.682]\n",
      "  [0.16  0.095 0.155 0.1   0.122 0.699]]] \n",
      " [[0.]] \n",
      "\n",
      "\n",
      "1 (1, 20, 6) (1, 1) \n",
      " [[[0.147 0.085 0.143 0.09  0.154 0.077]\n",
      "  [0.145 0.083 0.14  0.088 0.154 0.076]\n",
      "  [0.137 0.076 0.132 0.082 0.154 0.07 ]\n",
      "  [0.117 0.06  0.111 0.065 0.154 0.946]\n",
      "  [0.009 0.002 0.009 0.003 0.154 0.707]\n",
      "  [0.104 0.015 0.034 0.015 0.154 0.727]\n",
      "  [0.116 0.025 0.051 0.026 0.154 0.648]\n",
      "  [0.046 0.016 0.043 0.018 0.154 1.92 ]\n",
      "  [0.005 0.001 0.004 0.001 0.154 1.592]\n",
      "  [0.038 0.016 0.036 0.017 0.154 1.901]\n",
      "  [0.058 0.029 0.059 0.031 0.154 1.961]\n",
      "  [0.029 0.078 0.03  0.014 0.154 1.361]\n",
      "  [0.051 0.154 0.051 0.026 0.154 0.846]\n",
      "  [0.079 0.037 0.076 0.04  0.405 0.65 ]\n",
      "  [0.106 0.054 0.102 0.058 0.262 1.548]\n",
      "  [0.163 0.03  0.063 0.033 0.154 1.392]\n",
      "  [0.026 0.009 0.021 0.01  0.154 1.901]\n",
      "  [0.131 0.067 0.123 0.073 0.3   2.037]\n",
      "  [0.082 0.041 0.079 0.044 0.538 0.873]\n",
      "  [0.086 0.043 0.083 0.046 0.344 0.517]]] \n",
      " [[-0.]] \n",
      "\n",
      "\n",
      "2 (1, 20, 6) (1, 1) \n",
      " [[[0.268 0.095 0.155 0.1   0.1   1.181]\n",
      "  [0.16  0.095 0.155 0.1   0.154 0.948]\n",
      "  [0.16  0.095 0.155 0.1   0.154 0.32 ]\n",
      "  [0.16  0.095 0.155 0.1   0.154 0.087]\n",
      "  [0.16  0.095 0.155 0.1   0.154 0.316]\n",
      "  [0.16  0.095 0.155 0.1   0.077 0.413]\n",
      "  [0.16  0.095 0.155 0.1   0.061 0.087]\n",
      "  [0.16  0.095 0.155 0.1   0.098 0.186]\n",
      "  [0.16  0.095 0.155 0.1   0.154 0.135]\n",
      "  [0.16  0.095 0.155 0.1   0.154 0.543]\n",
      "  [0.16  0.095 0.155 0.1   0.154 0.367]\n",
      "  [0.16  0.095 0.155 0.1   0.154 0.087]\n",
      "  [0.16  0.095 0.155 0.1   0.154 0.087]\n",
      "  [0.16  0.095 0.155 0.1   0.134 0.087]\n",
      "  [0.16  0.095 0.155 0.1   0.071 0.131]\n",
      "  [0.358 0.095 0.155 0.1   0.124 0.716]\n",
      "  [0.278 0.095 0.155 0.1   0.071 0.435]\n",
      "  [0.129 0.068 0.122 0.073 0.14  0.061]\n",
      "  [0.051 0.025 0.05  0.025 0.154 0.025]\n",
      "  [0.16  0.092 0.155 0.1   0.154 0.083]]] \n",
      " [[-0.]] \n",
      "\n",
      "\n",
      "3 (1, 20, 6) (1, 1) \n",
      " [[[0.04  0.037 0.007 0.002 0.092 0.018]\n",
      "  [0.339 1.262 0.129 0.076 0.23  0.413]\n",
      "  [0.078 0.69  0.077 0.043 0.252 0.29 ]\n",
      "  [0.13  0.239 0.059 0.031 0.088 0.037]\n",
      "  [0.285 0.428 0.109 0.063 0.088 0.053]\n",
      "  [0.135 0.467 0.126 0.075 0.091 0.086]\n",
      "  [0.038 0.272 0.038 0.02  0.091 0.271]\n",
      "  [0.136 0.177 0.04  0.021 0.027 0.287]\n",
      "  [0.32  0.084 0.146 0.09  0.099 0.075]\n",
      "  [0.317 0.095 0.155 0.1   0.106 0.087]\n",
      "  [0.064 0.03  0.062 0.032 0.059 0.027]\n",
      "  [0.117 0.061 0.111 0.066 0.027 0.055]\n",
      "  [0.16  0.095 0.155 0.1   0.081 0.087]\n",
      "  [0.16  0.095 0.2   0.1   0.086 0.087]\n",
      "  [0.16  0.095 0.407 0.1   0.048 0.448]\n",
      "  [0.16  0.135 0.189 0.1   0.073 0.324]\n",
      "  [0.16  0.832 0.155 0.1   0.048 0.087]\n",
      "  [0.339 1.191 0.155 0.1   0.046 0.554]\n",
      "  [0.299 0.999 0.362 0.1   0.13  0.784]\n",
      "  [0.235 1.464 0.252 0.071 0.148 0.566]]] \n",
      " [[0.]] \n",
      "\n",
      "\n",
      "4 (1, 20, 6) (1, 1) \n",
      " [[[0.061 0.03  0.061 0.032 0.073 0.028]\n",
      "  [0.067 0.032 0.066 0.035 0.073 0.028]\n",
      "  [0.052 0.027 0.053 0.028 0.01  0.024]\n",
      "  [0.83  0.038 0.25  0.04  0.028 0.034]\n",
      "  [0.673 0.028 0.264 0.029 0.108 0.027]\n",
      "  [0.266 0.026 0.055 0.028 0.17  0.023]\n",
      "  [0.03  0.109 0.027 0.013 0.04  0.012]\n",
      "  [0.1   0.059 0.092 0.05  0.013 0.064]\n",
      "  [0.04  0.025 0.063 0.025 0.006 0.06 ]\n",
      "  [0.222 0.059 0.318 0.064 0.202 0.053]\n",
      "  [0.591 0.071 0.16  0.076 0.144 0.065]\n",
      "  [0.953 0.326 0.125 0.076 0.013 0.247]\n",
      "  [0.891 0.344 0.122 0.074 0.05  0.615]\n",
      "  [0.432 0.067 0.119 0.071 0.128 0.135]\n",
      "  [0.359 0.072 0.127 0.077 0.131 0.065]\n",
      "  [0.28  0.076 0.132 0.081 0.13  0.069]\n",
      "  [0.342 0.079 0.135 0.084 0.129 0.072]\n",
      "  [0.142 0.08  0.137 0.085 0.126 0.073]\n",
      "  [0.326 0.085 0.144 0.091 0.126 0.078]\n",
      "  [0.226 0.043 0.085 0.256 0.126 0.171]]] \n",
      " [[-0.]] \n",
      "\n",
      "\n"
     ]
    },
    {
     "name": "stderr",
     "output_type": "stream",
     "text": [
      "\n"
     ]
    }
   ],
   "source": []
  }
 ],
 "metadata": {
  "kernelspec": {
   "display_name": "Python 3",
   "language": "python",
   "name": "python3"
  },
  "language_info": {
   "codemirror_mode": {
    "name": "ipython",
    "version": 3
   },
   "file_extension": ".py",
   "mimetype": "text/x-python",
   "name": "python",
   "nbconvert_exporter": "python",
   "pygments_lexer": "ipython3",
   "version": "3.6.13"
  }
 },
 "nbformat": 4,
 "nbformat_minor": 5
}
